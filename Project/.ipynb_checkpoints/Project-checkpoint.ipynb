{
 "cells": [
  {
   "cell_type": "markdown",
   "id": "650cf525-0cad-475c-8efd-7475ae249fc3",
   "metadata": {},
   "source": [
    "# Final Project\n",
    "# Oluwanifemi Ajayi - 201652476"
   ]
  },
  {
   "cell_type": "code",
   "execution_count": 175,
   "id": "01228485-b198-4476-bd49-81f131fbe78f",
   "metadata": {},
   "outputs": [],
   "source": [
    "import pandas as pd\n",
    "import matplotlib.pyplot as plt\n",
    "import seaborn as sns\n",
    "import geopandas\n",
    "\n",
    "from ipywidgets import interact, interact_manual\n",
    "import ipywidgets as widgets\n",
    "import plotly.express as px"
   ]
  },
  {
   "cell_type": "markdown",
   "id": "cbc43256-edac-4c44-8fb2-620d24db7e7a",
   "metadata": {},
   "source": [
    "## The overall increasing participants over the years"
   ]
  },
  {
   "cell_type": "code",
   "execution_count": 176,
   "id": "99d639e4-e9bc-40e4-9da0-e712c1228966",
   "metadata": {},
   "outputs": [],
   "source": [
    "df = pd.read_csv('tely10.csv')\n",
    "df1 = pd.read_csv('tely10.csv')"
   ]
  },
  {
   "cell_type": "code",
   "execution_count": 177,
   "id": "07dfa743-df4f-42c8-92eb-345e13f50a98",
   "metadata": {},
   "outputs": [],
   "source": [
    "Male = df[df.division.str.contains(\"LM\")]\n",
    "Female = df[df.division.str.contains(\"LF\")]"
   ]
  },
  {
   "cell_type": "code",
   "execution_count": 178,
   "id": "9589fea5-115b-44d5-97f4-cfa570bd0671",
   "metadata": {},
   "outputs": [],
   "source": [
    "##fig, ax = plt.subplots(figsize=(20,9))\n",
    "##sns.violinplot(x = \"gender_place\", y = \"division\", orient = \"h\", scale='width', inner='quartiles', data = data1, ax=ax)"
   ]
  },
  {
   "cell_type": "code",
   "execution_count": 179,
   "id": "036d99fa-7a88-428a-a863-461de0fef71b",
   "metadata": {},
   "outputs": [
    {
     "data": {
      "image/png": "[encoded data removed]",
      "text/plain": [
       "<Figure size 1080x648 with 1 Axes>"
      ]
     },
     "metadata": {
      "needs_background": "light"
     },
     "output_type": "display_data"
    }
   ],
   "source": [
    "fig, ax = plt.subplots(figsize=(15,9))\n",
    "sns.boxplot(x=\"year\", y=\"overall_place\", data =df,ax=ax)\n",
    "ax.set_yticks([500, 1000, 1500, 2000, 2500, 3000, 3500, 4000, 4500,5000])\n",
    "##ax.set_xticks([2005, 2006, 2007, 2008, 2009, 2010, 2011, 2012, 2013,2014,2015,2016,2017,2018])\n",
    "plt.ylabel(\"Participants\", fontsize=18)\n",
    "plt.xlabel(\"Years\", fontsize=18)\n",
    "plt.title(\"Number of participants over each year\", fontsize=18)\n",
    "plt.show()"
   ]
  },
  {
   "cell_type": "markdown",
   "id": "cd4dfa1d-581a-469b-8f14-f18d93969ebf",
   "metadata": {},
   "source": [
    "## Gender Diversity"
   ]
  },
  {
   "cell_type": "code",
   "execution_count": 180,
   "id": "41d5a9e9-2024-4a6c-af81-2b45c5b4a958",
   "metadata": {},
   "outputs": [],
   "source": [
    "df = pd.read_csv('tely10.csv')"
   ]
  },
  {
   "cell_type": "code",
   "execution_count": 181,
   "id": "74d82c82-8793-4cc5-b083-7a4641d55b92",
   "metadata": {},
   "outputs": [],
   "source": [
    "Male = df[df.division.str.contains(\"LM\")]\n",
    "Female = df[df.division.str.contains(\"LF\")]"
   ]
  },
  {
   "cell_type": "code",
   "execution_count": 182,
   "id": "dc3ced8a-4800-47e6-a274-435f7f99e7c2",
   "metadata": {},
   "outputs": [
    {
     "data": {
      "application/vnd.jupyter.widget-view+json": {
       "model_id": "30abf86a0cb2442f8013d6655b4a9201",
       "version_major": 2,
       "version_minor": 0
      },
      "text/plain": [
       "interactive(children=(Dropdown(description='Gender', options=('Male', 'Female'), value='Male'), Output()), _do…"
      ]
     },
     "metadata": {},
     "output_type": "display_data"
    }
   ],
   "source": [
    "@interact(Gender = ([\"Male\"]) + ([\"Female\"]))\n",
    "          \n",
    "def f(Gender):\n",
    "    fig, ax = plt.subplots(figsize=(15,9))\n",
    "    if(Gender==\"Male\"):\n",
    "         sns.histplot(x=\"year\", y=\"overall_place\", data =Male,ax=ax)\n",
    "    if(Gender==\"Female\"):\n",
    "         sns.histplot(x=\"year\", y=\"overall_place\", data =Female,ax=ax)\n",
    "    ax.set_yticks([0, 500, 1000, 1500, 2000, 2500, 3000, 3500, 4000,4500,5000])\n",
    "    ax.set_xticks([2005, 2006, 2007, 2008, 2009, 2010, 2011, 2012, 2013,2014,2015,2016,2017,2018,2019])\n",
    "    ##ax.set_ylim(0,5000)\n",
    "    plt.ylabel(\"Participants\", fontsize=18)\n",
    "    plt.xlabel(\"Years\", fontsize=18)\n",
    "    plt.title(\"Number of Male and Female Participants over the years\", fontsize=20)\n",
    "    plt.show()"
   ]
  },
  {
   "cell_type": "markdown",
   "id": "e0ef007b-ec43-40b2-a699-7d9e1b1613bc",
   "metadata": {},
   "source": [
    "## The amount of times an individual participants and if he/she beats their record over the years"
   ]
  },
  {
   "cell_type": "code",
   "execution_count": 183,
   "id": "fd09c165-c003-4a6e-ab61-bbc2b1c0ad93",
   "metadata": {},
   "outputs": [],
   "source": [
    "df = pd.read_csv('tely10.csv')\n",
    "##df =df[df[\"division\"] == \"LM40-44\"]\n",
    "d2019 = df[df[\"year\"] == 2019]\n",
    "d2018 = df[df[\"year\"] == 2018]\n",
    "d2017 = df[df[\"year\"] == 2017]\n",
    "d2016 = df[df[\"year\"] == 2016]\n",
    "d2015 = df[df[\"year\"] == 2015]\n",
    "d2014 = df[df[\"year\"] == 2014]\n",
    "d2013 = df[df[\"year\"] == 2013]\n",
    "d2012 = df[df[\"year\"] == 2012]\n",
    "d2011 = df[df[\"year\"] == 2011]\n",
    "d2010 = df[df[\"year\"] == 2010]\n",
    "d2009 = df[df[\"year\"] == 2009]\n",
    "d2008 = df[df[\"year\"] == 2008]\n",
    "d2007 = df[df[\"year\"] == 2007]\n",
    "d2006 = df[df[\"year\"] == 2006]\n",
    "d2005 = df[df[\"year\"] == 2005]"
   ]
  },
  {
   "cell_type": "code",
   "execution_count": 184,
   "id": "8fa46916-ce7d-4e16-9833-61e19faf7fe9",
   "metadata": {},
   "outputs": [],
   "source": [
    "division = ['LM40-44', 'LM35-39', 'LM20-24', 'LM45-49', 'LF35-39', 'LM55-59',\n",
    "       'LM25-29', 'LM30-34', 'LM-19', 'LF20-24', 'LM50-54', 'LF25-29',\n",
    "       'LF30-34', 'LF40-44', 'LM60-64', 'LF45-49', 'LF-19', 'LF55-59',\n",
    "       'LF50-54', 'LM65-69', 'LF60-64', 'LF65-69', 'LM70-74', 'LM75-79',\n",
    "       'LF80+', 'LWA', 'LF70-74', 'LF75-79']\n",
    "years = [2019, 2018, 2017, 2016, 2015, 2014, 2013, 2012, 2011, 2010, 2009,\n",
    "       2008, 2007, 2006, 2005]"
   ]
  },
  {
   "cell_type": "code",
   "execution_count": 188,
   "id": "bd4ae16b-d99f-4387-ab1d-eabaa04831ed",
   "metadata": {},
   "outputs": [
    {
     "data": {
      "application/vnd.jupyter.widget-view+json": {
       "model_id": "191fe36958be4f47a19d18e7ee5f1edd",
       "version_major": 2,
       "version_minor": 0
      },
      "text/plain": [
       "interactive(children=(Dropdown(description='Year', options=(2019, 2018, 2017, 2016, 2015, 2014, 2013, 2012, 20…"
      ]
     },
     "metadata": {},
     "output_type": "display_data"
    }
   ],
   "source": [
    "@interact(Year = widgets.Dropdown(options=years, discripion =\"Division\"))\n",
    "          \n",
    "def f(Year):  \n",
    "    if(Year==2019):\n",
    "        fig = px.scatter(d2019, x='city', y=\"overall_place\", color =\"division\",symbol=\"division\", hover_data=[\"division_place\",\"chip_time\",\"gun_time\"],hover_name=\"name\")\n",
    "        fig.update_yaxes( dtick=200)\n",
    "        fig.update_layout(autosize=False,width=1500,height=1000,)\n",
    "        fig.update_layout(title=\"Graph Information of Tely10 Mile Road Race\",xaxis_title=\"Names of City\",yaxis_title=\"Overall position of participants (The lower it is, the better their position)\",font_family=\"Calibri\",\n",
    "    font_color=\"blue\",\n",
    "    title_font_family=\"Times New Roman\",\n",
    "    title_font_color=\"red\",font = dict(size=15))\n",
    "        fig.show()\n",
    "        \n",
    "    if(Year==2018):\n",
    "        fig = px.scatter(d2018, x='city', y=\"overall_place\", color =\"division\",symbol=\"division\", hover_data=[\"division_place\",\"chip_time\",\"gun_time\"],hover_name=\"name\")\n",
    "        fig.update_yaxes( dtick=300)\n",
    "        fig.update_layout(autosize=False,width=1500,height=1000,)\n",
    "        fig.update_layout(title=\"Graph Information of Tely10 Mile Road Race\",xaxis_title=\"Names of City\",yaxis_title=\"Overall position of participants (The lower it is, the better their position)\",font_family=\"Calibri\",\n",
    "    font_color=\"blue\",\n",
    "    title_font_family=\"Times New Roman\",\n",
    "    title_font_color=\"red\",font = dict(size=15))\n",
    "        fig.show()\n",
    "        \n",
    "    if(Year==2017):\n",
    "        fig = px.scatter(d2017, x='city', y=\"overall_place\", color =\"division\",symbol=\"division\", hover_data=[\"division_place\",\"chip_time\",\"gun_time\"],hover_name=\"name\")\n",
    "        fig.update_yaxes( dtick=300)\n",
    "        fig.update_layout(autosize=False,width=1500,height=1000,)\n",
    "        fig.update_layout(title=\"Graph Information of Tely10 Mile Road Race\",xaxis_title=\"Names of City\",yaxis_title=\"Overall position of participants (The lower it is, the better their position)\",font_family=\"Calibri\",\n",
    "    font_color=\"blue\",\n",
    "    title_font_family=\"Times New Roman\",\n",
    "    title_font_color=\"red\",font = dict(size=15))\n",
    "        fig.show()\n",
    "        \n",
    "    if(Year==2016):\n",
    "        fig = px.scatter(d2016, x='city', y=\"overall_place\", color =\"division\",symbol=\"division\", hover_data=[\"division_place\",\"chip_time\",\"gun_time\"],hover_name=\"name\")\n",
    "        fig.update_yaxes( dtick=300)\n",
    "        fig.update_layout(autosize=False,width=1500,height=1000,)\n",
    "        fig.update_layout(title=\"Graph Information of Tely10 Mile Road Race\",xaxis_title=\"Names of City\",yaxis_title=\"Overall position of participants (The lower it is, the better their position)\",font_family=\"Calibri\",\n",
    "    font_color=\"blue\",\n",
    "    title_font_family=\"Times New Roman\",\n",
    "    title_font_color=\"red\",font = dict(size=15))\n",
    "        fig.show()\n",
    "        \n",
    "    if(Year==2015):\n",
    "        fig = px.scatter(d2015, x='city', y=\"overall_place\", color =\"division\",symbol=\"division\", hover_data=[\"division_place\",\"chip_time\",\"gun_time\"],hover_name=\"name\")\n",
    "        fig.update_yaxes( dtick=300)\n",
    "        fig.update_layout(autosize=False,width=1500,height=1000,)\n",
    "        fig.update_layout(title=\"Graph Information of Tely10 Mile Road Race\",xaxis_title=\"Names of City\",yaxis_title=\"Overall position of participants (The lower it is, the better their position)\",font_family=\"Calibri\",\n",
    "    font_color=\"blue\",\n",
    "    title_font_family=\"Times New Roman\",\n",
    "    title_font_color=\"red\",font = dict(size=15))\n",
    "        fig.show()\n",
    "        \n",
    "    if(Year==2014):\n",
    "        fig = px.scatter(d2014, x='city', y=\"overall_place\", color =\"division\",symbol=\"division\", hover_data=[\"division_place\",\"chip_time\",\"gun_time\"],hover_name=\"name\")\n",
    "        fig.update_yaxes( dtick=300)\n",
    "        fig.update_layout(autosize=False,width=1500,height=1000,)\n",
    "        fig.update_layout(title=\"Graph Information of Tely10 Mile Road Race\",xaxis_title=\"Names of City\",yaxis_title=\"Overall position of participants (The lower it is, the better their position)\",font_family=\"Calibri\",\n",
    "    font_color=\"blue\",\n",
    "    title_font_family=\"Times New Roman\",\n",
    "    title_font_color=\"red\",font = dict(size=15))\n",
    "        fig.show()\n",
    "        \n",
    "    if(Year==2013):\n",
    "        fig = px.scatter(d2013, x='city', y=\"overall_place\", color =\"division\",symbol=\"division\", hover_data=[\"division_place\",\"chip_time\",\"gun_time\"],hover_name=\"name\")\n",
    "        fig.update_yaxes( dtick=300)\n",
    "        fig.update_layout(autosize=False,width=1500,height=1000,)\n",
    "        fig.update_layout(title=\"Graph Information of Tely10 Mile Road Race\",xaxis_title=\"Names of City\",yaxis_title=\"Overall position of participants (The lower it is, the better their position)\",font_family=\"Calibri\",\n",
    "    font_color=\"blue\",\n",
    "    title_font_family=\"Times New Roman\",\n",
    "    title_font_color=\"red\",font = dict(size=15))\n",
    "        fig.show()\n",
    "        \n",
    "    if(Year==2012):\n",
    "        fig = px.scatter(d2012, x='city', y=\"overall_place\", color =\"division\",symbol=\"division\", hover_data=[\"division_place\",\"chip_time\",\"gun_time\"],hover_name=\"name\")\n",
    "        fig.update_yaxes( dtick=300)\n",
    "        fig.update_layout(autosize=False,width=1500,height=1000,)\n",
    "        fig.update_layout(title=\"Graph Information of Tely10 Mile Road Race\",xaxis_title=\"Names of City\",yaxis_title=\"Overall position of participants (The lower it is, the better their position)\",font_family=\"Calibri\",\n",
    "    font_color=\"blue\",\n",
    "    title_font_family=\"Times New Roman\",\n",
    "    title_font_color=\"red\",font = dict(size=15))\n",
    "        fig.show()\n",
    "        \n",
    "    if(Year==2011):\n",
    "        fig = px.scatter(d2011, x='city',y=\"overall_place\", color =\"division\",symbol=\"division\", hover_data=[\"division_place\",\"chip_time\",\"gun_time\"],hover_name=\"name\")\n",
    "        fig.update_yaxes( dtick=300)\n",
    "        fig.update_layout(autosize=False,width=1500,height=1000,)\n",
    "        fig.update_layout(title=\"Graph Information of Tely10 Mile Road Race\",xaxis_title=\"Names of City\",yaxis_title=\"Overall position of participants (The lower it is, the better their position)\",font_family=\"Calibri\",\n",
    "    font_color=\"blue\",\n",
    "    title_font_family=\"Times New Roman\",\n",
    "    title_font_color=\"red\",font = dict(size=15))\n",
    "        fig.show()\n",
    "        \n",
    "    if(Year==2010):\n",
    "        fig = px.scatter(d2010, x='city', y=\"overall_place\", color =\"division\",symbol=\"division\", hover_data=[\"division_place\",\"chip_time\",\"gun_time\"],hover_name=\"name\")\n",
    "        fig.update_yaxes( dtick=300)\n",
    "        fig.update_layout(autosize=False,width=1500,height=1000,)\n",
    "        fig.update_layout(title=\"Graph Information of Tely10 Mile Road Race\",xaxis_title=\"Names of City\",yaxis_title=\"Overall position of participants (The lower it is, the better their position)\",font_family=\"Calibri\",\n",
    "    font_color=\"blue\",\n",
    "    title_font_family=\"Times New Roman\",\n",
    "    title_font_color=\"red\",font = dict(size=15))\n",
    "        fig.show()\n",
    "        \n",
    "    if(Year==2009):\n",
    "        fig = px.scatter(d2009, x='city', y=\"overall_place\", color =\"division\",symbol=\"division\", hover_data=[\"division_place\",\"chip_time\",\"gun_time\"],hover_name=\"name\")\n",
    "        fig.update_yaxes( dtick=300)\n",
    "        fig.update_layout(autosize=False,width=1500,height=1000,)\n",
    "        fig.update_layout(title=\"Graph Information of Tely10 Mile Road Race\",xaxis_title=\"Names of City\",yaxis_title=\"Overall position of participants (The lower it is, the better their position)\",font_family=\"Calibri\",\n",
    "    font_color=\"blue\",\n",
    "    title_font_family=\"Times New Roman\",\n",
    "    title_font_color=\"red\",font = dict(size=15))\n",
    "        fig.show()\n",
    "        \n",
    "    if(Year==2008):\n",
    "        fig = px.scatter(d2008, x='city', y=\"overall_place\", color =\"division\",symbol=\"division\", hover_data=[\"division_place\",\"chip_time\",\"gun_time\"],hover_name=\"name\")\n",
    "        fig.update_yaxes( dtick=300)\n",
    "        fig.update_layout(autosize=False,width=1500,height=1000,)\n",
    "        fig.update_layout(title=\"Graph Information of Tely10 Mile Road Race\",xaxis_title=\"Names of City\",yaxis_title=\"Overall position of participants (The lower it is, the better their position)\",font_family=\"Calibri\",\n",
    "    font_color=\"blue\",\n",
    "    title_font_family=\"Times New Roman\",\n",
    "    title_font_color=\"red\",font = dict(size=15))\n",
    "        fig.show()\n",
    "        \n",
    "    if(Year==2007):\n",
    "        fig = px.scatter(d2008, x='city', y=\"overall_place\", color =\"division\",symbol=\"division\", hover_data=[\"division_place\",\"chip_time\",\"gun_time\"],hover_name=\"name\")\n",
    "        fig.update_yaxes( dtick=300)\n",
    "        fig.update_layout(autosize=False,width=1500,height=1000,)\n",
    "        fig.update_layout(title=\"Graph Information of Tely10 Mile Road Race\",xaxis_title=\"Names of City\",yaxis_title=\"Overall position of participants (The lower it is, the better their position)\",font_family=\"Calibri\",\n",
    "    font_color=\"blue\",\n",
    "    title_font_family=\"Times New Roman\",\n",
    "    title_font_color=\"red\",font = dict(size=15))\n",
    "        fig.show()\n",
    "        \n",
    "    if(Year==2006):\n",
    "        fig = px.scatter(d2008, x='city',y=\"overall_place\", color =\"division\",symbol=\"division\", hover_data=[\"division_place\",\"chip_time\",\"gun_time\"],hover_name=\"name\")\n",
    "        fig.update_yaxes( dtick=300)\n",
    "        fig.update_layout(autosize=False,width=1500,height=1000,)\n",
    "        fig.update_layout(title=\"Graph Information of Tely10 Mile Road Race\",xaxis_title=\"Names of City\",yaxis_title=\"Overall position of participants (The lower it is, the better their position)\",font_family=\"Calibri\",\n",
    "    font_color=\"blue\",\n",
    "    title_font_family=\"Times New Roman\",\n",
    "    title_font_color=\"red\",font = dict(size=15))\n",
    "        fig.show()\n",
    "        \n",
    "    if(Year==2005):\n",
    "        fig = px.scatter(d2008, x='city', y=\"overall_place\", color =\"division\",symbol=\"division\", hover_data=[\"division_place\",\"chip_time\",\"gun_time\"],hover_name=\"name\")\n",
    "        fig.update_yaxes( dtick=300)\n",
    "        fig.update_layout(autosize=False,width=1500,height=1000,)\n",
    "        fig.update_layout(title=\"Graph Information of Tely10 Mile Road Race\",xaxis_title=\"Names of City\",yaxis_title=\"Overall position of participants (The lower it is, the better their position)\",font_family=\"Calibri\",\n",
    "    font_color=\"blue\",\n",
    "    title_font_family=\"Times New Roman\",\n",
    "    title_font_color=\"red\",font = dict(size=15))\n",
    "        fig.show()\n",
    "    "
   ]
  },
  {
   "cell_type": "markdown",
   "id": "eace995e-69ea-463f-b620-71bcf923aada",
   "metadata": {},
   "source": [
    "## Pecentage of division popularity in each year"
   ]
  },
  {
   "cell_type": "code",
   "execution_count": 186,
   "id": "3388ca01-4637-4fd6-973a-24455d6b9ed6",
   "metadata": {},
   "outputs": [],
   "source": [
    "df = pd.read_csv('tely10.csv')\n",
    "d2019 = df[df[\"year\"] == 2019]\n",
    "d2018 = df[df[\"year\"] == 2018]\n",
    "d2017 = df[df[\"year\"] == 2017]\n",
    "d2016 = df[df[\"year\"] == 2016]\n",
    "d2015 = df[df[\"year\"] == 2015]\n",
    "d2014 = df[df[\"year\"] == 2014]\n",
    "d2013 = df[df[\"year\"] == 2013]\n",
    "d2012 = df[df[\"year\"] == 2012]\n",
    "d2011 = df[df[\"year\"] == 2011]\n",
    "d2010 = df[df[\"year\"] == 2010]\n",
    "d2009 = df[df[\"year\"] == 2009]\n",
    "d2008 = df[df[\"year\"] == 2008]\n",
    "d2007 = df[df[\"year\"] == 2007]\n",
    "d2006 = df[df[\"year\"] == 2006]\n",
    "d2005 = df[df[\"year\"] == 2005]"
   ]
  },
  {
   "cell_type": "code",
   "execution_count": 187,
   "id": "92518f2a-d71b-424b-8815-948c8ddd7a69",
   "metadata": {},
   "outputs": [
    {
     "data": {
      "application/vnd.jupyter.widget-view+json": {
       "model_id": "04697a002ec345a3af4e0b753d99fa1c",
       "version_major": 2,
       "version_minor": 0
      },
      "text/plain": [
       "interactive(children=(Dropdown(description='Year', options=(2019, 2018, 2017, 2016, 2015, 2014, 2013, 2012, 20…"
      ]
     },
     "metadata": {},
     "output_type": "display_data"
    }
   ],
   "source": [
    "@interact(Year = widgets.Dropdown(options=years, discripion =\"Division\"))\n",
    "          \n",
    "def f(Year):  \n",
    "    if(Year==2019):\n",
    "        fig = px.pie(d2019, values='year', names='division',title='Percentage of Division popularity')\n",
    "        fig.update_layout(autosize=False,width=1500,height=1000,)\n",
    "        ##fig.update_layout(margin=dict(t=100, b=100, l=100, r=100))\n",
    "        fig.show()\n",
    "    if(Year==2018):\n",
    "        fig = px.pie(d2018, values='year', names='division',title='Percentage of Division popularity')\n",
    "        fig.update_layout(autosize=False,width=1500,height=1000,)\n",
    "        ##fig.update_layout(margin=dict(t=100, b=100, l=100, r=100))\n",
    "        fig.show()\n",
    "    if(Year==2017):\n",
    "        fig = px.pie(d2017, values='year', names='division',title='Percentage of Division popularity')\n",
    "        fig.update_layout(autosize=False,width=1500,height=1000,)\n",
    "        ##fig.update_layout(margin=dict(t=100, b=100, l=100, r=100))\n",
    "        fig.show()\n",
    "    if(Year==2016):\n",
    "        fig = px.pie(d2016, values='year', names='division',title='Percentage of Division popularity')\n",
    "        fig.update_layout(autosize=False,width=1500,height=1000,)\n",
    "        ##fig.update_layout(margin=dict(t=100, b=100, l=100, r=100))\n",
    "        fig.show()\n",
    "        \n",
    "    if(Year==2015):\n",
    "        fig = px.pie(d2015, values='year', names='division',title='Percentage of Division popularity')\n",
    "        fig.update_layout(autosize=False,width=1500,height=1000,)\n",
    "        ##fig.update_layout(margin=dict(t=100, b=100, l=100, r=100))\n",
    "        fig.show()\n",
    "    if(Year==2014):\n",
    "        fig = px.pie(d2014, values='year', names='division',title='Percentage of Division popularity')\n",
    "        fig.update_layout(autosize=False,width=1500,height=1000,)\n",
    "        ##fig.update_layout(margin=dict(t=100, b=100, l=100, r=100))\n",
    "        fig.show()\n",
    "    if(Year==2013):\n",
    "        fig = px.pie(d2013, values='year', names='division',title='Percentage of Division popularity')\n",
    "        fig.update_layout(autosize=False,width=1500,height=1000,)\n",
    "        ##fig.update_layout(margin=dict(t=100, b=100, l=100, r=100))\n",
    "        fig.show()\n",
    "    if(Year==2012):\n",
    "        fig = px.pie(d2012, values='year', names='division',title='Percentage of Division popularity')\n",
    "        fig.update_layout(autosize=False,width=1500,height=1000,)\n",
    "        ##fig.update_layout(margin=dict(t=100, b=100, l=100, r=100))\n",
    "        fig.show()\n",
    "    if(Year==2011):\n",
    "        fig = px.pie(d2011, values='year', names='division',title='Percentage of Division popularity')\n",
    "        fig.update_layout(autosize=False,width=1500,height=1000,)\n",
    "        ##fig.update_layout(margin=dict(t=100, b=100, l=100, r=100))\n",
    "        fig.show()\n",
    "    if(Year==2010):\n",
    "        fig = px.pie(d2010, values='year', names='division',title='Percentage of Division popularity')\n",
    "        fig.update_layout(autosize=False,width=1500,height=1000,)\n",
    "        ##fig.update_layout(margin=dict(t=100, b=100, l=100, r=100))\n",
    "        fig.show()\n",
    "    if(Year==2009):\n",
    "        fig = px.pie(d2009, values='year', names='division',title='Percentage of Division popularity')\n",
    "        fig.update_layout(autosize=False,width=1500,height=1000,)\n",
    "        ##fig.update_layout(margin=dict(t=100, b=100, l=100, r=100))\n",
    "        fig.show()\n",
    "    if(Year==2008):\n",
    "        fig = px.pie(d2008, values='year', names='division',title='Percentage of Division popularity')\n",
    "        fig.update_layout(autosize=False,width=1500,height=1000,)\n",
    "        ##fig.update_layout(margin=dict(t=100, b=100, l=100, r=100))\n",
    "        fig.show()\n",
    "    if(Year==2007):\n",
    "        fig = px.pie(d2007, values='year', names='division',title='Percentage of Division popularity')\n",
    "        fig.update_layout(autosize=False,width=1500,height=1000,)\n",
    "        ##fig.update_layout(margin=dict(t=100, b=100, l=100, r=100))\n",
    "        fig.show()\n",
    "    if(Year==2006):\n",
    "        fig = px.pie(d2006, values='year', names='division',title='Percentage of Division popularity')\n",
    "        fig.update_layout(autosize=False,width=1500,height=1000,)\n",
    "        ##fig.update_layout(margin=dict(t=100, b=100, l=100, r=100))\n",
    "        fig.show()\n",
    "    if(Year==2005):\n",
    "        fig = px.pie(d2015, values='year', names='division',title='Percentage of Division popularity')\n",
    "        fig.update_layout(autosize=False,width=1500,height=1000,)\n",
    "        ##fig.update_layout(margin=dict(t=100, b=100, l=100, r=100))\n",
    "        fig.show()"
   ]
  },
  {
   "cell_type": "code",
   "execution_count": null,
   "id": "77ae790e-0d5c-4fcc-978d-441dd9ca695b",
   "metadata": {},
   "outputs": [],
   "source": []
  }
 ],
 "metadata": {
  "kernelspec": {
   "display_name": "Python 3 (ipykernel)",
   "language": "python",
   "name": "python3"
  },
  "language_info": {
   "codemirror_mode": {
    "name": "ipython",
    "version": 3
   },
   "file_extension": ".py",
   "mimetype": "text/x-python",
   "name": "python",
   "nbconvert_exporter": "python",
   "pygments_lexer": "ipython3",
   "version": "3.9.7"
  }
 },
 "nbformat": 4,
 "nbformat_minor": 5
}

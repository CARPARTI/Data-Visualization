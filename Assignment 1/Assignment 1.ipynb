{
 "cells": [
  {
   "cell_type": "markdown",
   "id": "6f953537-875e-4229-99b0-d127d66beec6",
   "metadata": {
    "tags": []
   },
   "source": [
    "# Assignment 1"
   ]
  },
  {
   "cell_type": "markdown",
   "id": "5383d9ba-19bc-4814-ad16-4380245553bc",
   "metadata": {},
   "source": [
    "## Ajayi Oluwanifemi - 201652476\n",
    "## 2021-09-20"
   ]
  },
  {
   "cell_type": "code",
   "execution_count": 1,
   "id": "2fb4c541-02ba-4201-8f65-a97b0ec9dbb3",
   "metadata": {},
   "outputs": [],
   "source": [
    "import pandas as pd"
   ]
  },
  {
   "cell_type": "code",
   "execution_count": 2,
   "id": "cdd93a51-49d0-4222-bae2-ba8da9a95008",
   "metadata": {},
   "outputs": [],
   "source": [
    "df = pd.read_csv(\"students.csv\")"
   ]
  },
  {
   "cell_type": "code",
   "execution_count": 3,
   "id": "c0087a69-2e7c-48bb-8f27-24f390f6ce23",
   "metadata": {},
   "outputs": [
    {
     "data": {
      "text/html": [
       "<div>\n",
       "<style scoped>\n",
       "    .dataframe tbody tr th:only-of-type {\n",
       "        vertical-align: middle;\n",
       "    }\n",
       "\n",
       "    .dataframe tbody tr th {\n",
       "        vertical-align: top;\n",
       "    }\n",
       "\n",
       "    .dataframe thead th {\n",
       "        text-align: right;\n",
       "    }\n",
       "</style>\n",
       "<table border=\"1\" class=\"dataframe\">\n",
       "  <thead>\n",
       "    <tr style=\"text-align: right;\">\n",
       "      <th></th>\n",
       "      <th>REF_DATE</th>\n",
       "      <th>GEO</th>\n",
       "      <th>Institution type</th>\n",
       "      <th>Registration status</th>\n",
       "      <th>International Standard Classification of Education (ISCED)</th>\n",
       "      <th>Field of study</th>\n",
       "      <th>Gender</th>\n",
       "      <th>Status of student in Canada</th>\n",
       "      <th>VALUE</th>\n",
       "    </tr>\n",
       "  </thead>\n",
       "  <tbody>\n",
       "    <tr>\n",
       "      <th>0</th>\n",
       "      <td>2018/2019</td>\n",
       "      <td>Newfoundland and Labrador</td>\n",
       "      <td>University</td>\n",
       "      <td>Full-time student</td>\n",
       "      <td>Bachelor's or equivalent</td>\n",
       "      <td>Education [1]</td>\n",
       "      <td>Male gender</td>\n",
       "      <td>Canadian students</td>\n",
       "      <td>129.0</td>\n",
       "    </tr>\n",
       "    <tr>\n",
       "      <th>1</th>\n",
       "      <td>2018/2019</td>\n",
       "      <td>Newfoundland and Labrador</td>\n",
       "      <td>University</td>\n",
       "      <td>Full-time student</td>\n",
       "      <td>Bachelor's or equivalent</td>\n",
       "      <td>Education [1]</td>\n",
       "      <td>Male gender</td>\n",
       "      <td>International students</td>\n",
       "      <td>3.0</td>\n",
       "    </tr>\n",
       "    <tr>\n",
       "      <th>2</th>\n",
       "      <td>2018/2019</td>\n",
       "      <td>Newfoundland and Labrador</td>\n",
       "      <td>University</td>\n",
       "      <td>Full-time student</td>\n",
       "      <td>Bachelor's or equivalent</td>\n",
       "      <td>Education [1]</td>\n",
       "      <td>Female gender</td>\n",
       "      <td>Canadian students</td>\n",
       "      <td>243.0</td>\n",
       "    </tr>\n",
       "    <tr>\n",
       "      <th>3</th>\n",
       "      <td>2018/2019</td>\n",
       "      <td>Newfoundland and Labrador</td>\n",
       "      <td>University</td>\n",
       "      <td>Full-time student</td>\n",
       "      <td>Bachelor's or equivalent</td>\n",
       "      <td>Education [1]</td>\n",
       "      <td>Female gender</td>\n",
       "      <td>International students</td>\n",
       "      <td>3.0</td>\n",
       "    </tr>\n",
       "    <tr>\n",
       "      <th>4</th>\n",
       "      <td>2018/2019</td>\n",
       "      <td>Newfoundland and Labrador</td>\n",
       "      <td>University</td>\n",
       "      <td>Full-time student</td>\n",
       "      <td>Bachelor's or equivalent</td>\n",
       "      <td>Education [1]</td>\n",
       "      <td>Gender unknown</td>\n",
       "      <td>Canadian students</td>\n",
       "      <td>3.0</td>\n",
       "    </tr>\n",
       "  </tbody>\n",
       "</table>\n",
       "</div>"
      ],
      "text/plain": [
       "    REF_DATE                        GEO Institution type Registration status  \\\n",
       "0  2018/2019  Newfoundland and Labrador       University   Full-time student   \n",
       "1  2018/2019  Newfoundland and Labrador       University   Full-time student   \n",
       "2  2018/2019  Newfoundland and Labrador       University   Full-time student   \n",
       "3  2018/2019  Newfoundland and Labrador       University   Full-time student   \n",
       "4  2018/2019  Newfoundland and Labrador       University   Full-time student   \n",
       "\n",
       "  International Standard Classification of Education (ISCED) Field of study  \\\n",
       "0                           Bachelor's or equivalent          Education [1]   \n",
       "1                           Bachelor's or equivalent          Education [1]   \n",
       "2                           Bachelor's or equivalent          Education [1]   \n",
       "3                           Bachelor's or equivalent          Education [1]   \n",
       "4                           Bachelor's or equivalent          Education [1]   \n",
       "\n",
       "           Gender Status of student in Canada  VALUE  \n",
       "0     Male gender           Canadian students  129.0  \n",
       "1     Male gender      International students    3.0  \n",
       "2   Female gender           Canadian students  243.0  \n",
       "3   Female gender      International students    3.0  \n",
       "4  Gender unknown           Canadian students    3.0  "
      ]
     },
     "execution_count": 3,
     "metadata": {},
     "output_type": "execute_result"
    }
   ],
   "source": [
    " df.head()"
   ]
  },
  {
   "cell_type": "markdown",
   "id": "be76db28-1dac-49d2-8f2b-f4d69575135e",
   "metadata": {
    "tags": []
   },
   "source": [
    "### Code that finds number of unique fields of study"
   ]
  },
  {
   "cell_type": "code",
   "execution_count": 4,
   "id": "e0ecdeab-e718-4a65-81c8-f7f5db438f3f",
   "metadata": {},
   "outputs": [
    {
     "data": {
      "text/plain": [
       "14"
      ]
     },
     "execution_count": 4,
     "metadata": {},
     "output_type": "execute_result"
    }
   ],
   "source": [
    "df[\"Field of study\"].nunique()"
   ]
  },
  {
   "cell_type": "markdown",
   "id": "059f53df-4b5f-4bbf-b9f8-691b0a450089",
   "metadata": {},
   "source": [
    "### Code that lists all the unique degree types in the International Standard Classification of Education (ISCED) field."
   ]
  },
  {
   "cell_type": "code",
   "execution_count": 5,
   "id": "b29055aa-1127-4662-8021-5e5dbfa8fe90",
   "metadata": {},
   "outputs": [
    {
     "data": {
      "text/plain": [
       "array([\"Bachelor's or equivalent\", \"Master's or equivalent\",\n",
       "       'Doctoral or equivalent', 'Post-secondary non-tertiary education',\n",
       "       'Short-cycle tertiary education',\n",
       "       'Not applicable, International Standard Classification of Education (ISCED)',\n",
       "       'Upper secondary education'], dtype=object)"
      ]
     },
     "execution_count": 5,
     "metadata": {},
     "output_type": "execute_result"
    }
   ],
   "source": [
    "df[\"International Standard Classification of Education (ISCED)\"].unique()"
   ]
  },
  {
   "cell_type": "markdown",
   "id": "a709250e-f76b-41fb-bb23-a9032b7f20d6",
   "metadata": {},
   "source": [
    "### Number of entries in the data set that have institution type of University or College"
   ]
  },
  {
   "cell_type": "markdown",
   "id": "8ed2181b-3e2d-4a2d-851d-4f2857ef7f06",
   "metadata": {},
   "source": [
    "#### data stores the code and then len(data) gives the number"
   ]
  },
  {
   "cell_type": "code",
   "execution_count": 6,
   "id": "10cd6c1a-6c30-40c3-b218-2495081f8fa5",
   "metadata": {},
   "outputs": [],
   "source": [
    "data = df[(df[\"Institution type\"].str.contains(\"University\")) | (df[\"Institution type\"].str.contains(\"College\"))]"
   ]
  },
  {
   "cell_type": "code",
   "execution_count": 7,
   "id": "21312e0d-de0e-40ec-8337-a31d98af5230",
   "metadata": {},
   "outputs": [
    {
     "data": {
      "text/plain": [
       "6221"
      ]
     },
     "execution_count": 7,
     "metadata": {},
     "output_type": "execute_result"
    }
   ],
   "source": [
    "len(data)"
   ]
  },
  {
   "cell_type": "markdown",
   "id": "2c32bc4c-7e3b-4c69-8d62-03ab34967772",
   "metadata": {},
   "source": [
    "### Total number of students enrolled in Newfoundland and Labrador"
   ]
  },
  {
   "cell_type": "markdown",
   "id": "3cbef0af-8a3a-423e-ae8f-af65ac7ee839",
   "metadata": {},
   "source": [
    "#### NL_student stores the data"
   ]
  },
  {
   "cell_type": "code",
   "execution_count": 12,
   "id": "9ac96108-54c8-4650-8c19-3ef72724da05",
   "metadata": {},
   "outputs": [],
   "source": [
    "NL_student = df[(df[\"Registration status\"].str.contains(\"student\")) & (df[\"GEO\"].str.contains(\"Newfoundland and Labrador\")) ]"
   ]
  },
  {
   "cell_type": "markdown",
   "id": "38d43fbc-3fbc-494a-98a8-4529681ec565",
   "metadata": {},
   "source": [
    "#### Sum of students"
   ]
  },
  {
   "cell_type": "code",
   "execution_count": 11,
   "id": "db08f11d-e3da-44ad-baf7-192a04bd1902",
   "metadata": {},
   "outputs": [
    {
     "data": {
      "text/plain": [
       "24777.0"
      ]
     },
     "execution_count": 11,
     "metadata": {},
     "output_type": "execute_result"
    }
   ],
   "source": [
    "NL_student[\"VALUE\"].sum()"
   ]
  },
  {
   "cell_type": "markdown",
   "id": "96dbed1f-3bc9-45b1-95aa-eb5790ccad35",
   "metadata": {},
   "source": [
    "### Number of male students from NL"
   ]
  },
  {
   "cell_type": "code",
   "execution_count": 29,
   "id": "0660f2e6-de6c-4fd9-a321-70126f1001f1",
   "metadata": {},
   "outputs": [],
   "source": [
    "male = NL_student[NL_student[\"Gender\"].str.contains(\"Male gender\")]"
   ]
  },
  {
   "cell_type": "code",
   "execution_count": 30,
   "id": "04a01229-6cc2-42ad-8235-11964d1b4b5a",
   "metadata": {},
   "outputs": [
    {
     "data": {
      "text/plain": [
       "163"
      ]
     },
     "execution_count": 30,
     "metadata": {},
     "output_type": "execute_result"
    }
   ],
   "source": [
    "len(male)"
   ]
  },
  {
   "cell_type": "markdown",
   "id": "5096600d-a90b-4f3d-b323-dbc115ad8a98",
   "metadata": {},
   "source": [
    "### Number of female students from NL"
   ]
  },
  {
   "cell_type": "code",
   "execution_count": 31,
   "id": "453bdf18-91c7-446d-994f-65b585f1f272",
   "metadata": {},
   "outputs": [],
   "source": [
    "female = NL_student[NL_student[\"Gender\"].str.contains(\"Female gender\")]"
   ]
  },
  {
   "cell_type": "code",
   "execution_count": 32,
   "id": "8cc5bd91-d607-4d35-8316-ebc53864a198",
   "metadata": {},
   "outputs": [
    {
     "data": {
      "text/plain": [
       "159"
      ]
     },
     "execution_count": 32,
     "metadata": {},
     "output_type": "execute_result"
    }
   ],
   "source": [
    "len(female)"
   ]
  },
  {
   "cell_type": "code",
   "execution_count": null,
   "id": "c3eb4790-1a13-40e9-8080-0774a898939d",
   "metadata": {},
   "outputs": [],
   "source": []
  }
 ],
 "metadata": {
  "kernelspec": {
   "display_name": "Python 3 (ipykernel)",
   "language": "python",
   "name": "python3"
  },
  "language_info": {
   "codemirror_mode": {
    "name": "ipython",
    "version": 3
   },
   "file_extension": ".py",
   "mimetype": "text/x-python",
   "name": "python",
   "nbconvert_exporter": "python",
   "pygments_lexer": "ipython3",
   "version": "3.9.6"
  }
 },
 "nbformat": 4,
 "nbformat_minor": 5
}

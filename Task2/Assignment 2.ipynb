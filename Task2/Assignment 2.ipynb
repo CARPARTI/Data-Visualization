{
 "cells": [
  {
   "cell_type": "markdown",
   "id": "361797ff-f342-4849-b16f-57e36cc2c325",
   "metadata": {},
   "source": [
    "# Assignment 2\n",
    "## Oluwanifemi Ajayi 201652476"
   ]
  },
  {
   "cell_type": "code",
   "execution_count": 1,
   "id": "d0420443-6b67-4b99-9103-0fe538c54b93",
   "metadata": {},
   "outputs": [],
   "source": [
    "import pandas as pd"
   ]
  },
  {
   "cell_type": "code",
   "execution_count": 2,
   "id": "0ecbf887-493c-42cb-8218-08854c02c8af",
   "metadata": {},
   "outputs": [],
   "source": [
    "import matplotlib.pyplot as plt"
   ]
  },
  {
   "cell_type": "code",
   "execution_count": 3,
   "id": "723f66ce-2b2a-4508-9530-8f23ca67a936",
   "metadata": {},
   "outputs": [],
   "source": [
    "df = pd.read_csv(\"students1.csv\")\n",
    "ab = pd.read_csv(\"iris.csv\")"
   ]
  },
  {
   "cell_type": "markdown",
   "id": "68aea719-24d2-453f-b475-853da9ccfff8",
   "metadata": {},
   "source": [
    "### Province or territory that has the largest number students"
   ]
  },
  {
   "cell_type": "code",
   "execution_count": 4,
   "id": "d8ba3fc8-dd29-472b-98ed-3c66b232dbf1",
   "metadata": {},
   "outputs": [],
   "source": [
    "columns = ['Field of study', 'GEO', 'VALUE']\n",
    "data1 = df[columns]"
   ]
  },
  {
   "cell_type": "code",
   "execution_count": 5,
   "id": "a8a2a0cb-ae52-4017-b92c-6a6f77f84679",
   "metadata": {},
   "outputs": [
    {
     "data": {
      "text/plain": [
       "<pandas.core.groupby.generic.DataFrameGroupBy object at 0x00000285D56BCA00>"
      ]
     },
     "execution_count": 5,
     "metadata": {},
     "output_type": "execute_result"
    }
   ],
   "source": [
    "data1.groupby([\"Field of study\",\"GEO\"])"
   ]
  },
  {
   "cell_type": "code",
   "execution_count": 6,
   "id": "8d5e639f-3ca0-4a1b-988d-2e6192b2ef0d",
   "metadata": {},
   "outputs": [
    {
     "data": {
      "text/html": [
       "<div>\n",
       "<style scoped>\n",
       "    .dataframe tbody tr th:only-of-type {\n",
       "        vertical-align: middle;\n",
       "    }\n",
       "\n",
       "    .dataframe tbody tr th {\n",
       "        vertical-align: top;\n",
       "    }\n",
       "\n",
       "    .dataframe thead th {\n",
       "        text-align: right;\n",
       "    }\n",
       "</style>\n",
       "<table border=\"1\" class=\"dataframe\">\n",
       "  <thead>\n",
       "    <tr style=\"text-align: right;\">\n",
       "      <th></th>\n",
       "      <th>Field of study</th>\n",
       "      <th>GEO</th>\n",
       "      <th>VALUE</th>\n",
       "    </tr>\n",
       "  </thead>\n",
       "  <tbody>\n",
       "    <tr>\n",
       "      <th>0</th>\n",
       "      <td>Education [1]</td>\n",
       "      <td>Newfoundland and Labrador</td>\n",
       "      <td>129</td>\n",
       "    </tr>\n",
       "    <tr>\n",
       "      <th>1</th>\n",
       "      <td>Education [1]</td>\n",
       "      <td>Newfoundland and Labrador</td>\n",
       "      <td>3</td>\n",
       "    </tr>\n",
       "    <tr>\n",
       "      <th>2</th>\n",
       "      <td>Education [1]</td>\n",
       "      <td>Newfoundland and Labrador</td>\n",
       "      <td>243</td>\n",
       "    </tr>\n",
       "    <tr>\n",
       "      <th>3</th>\n",
       "      <td>Education [1]</td>\n",
       "      <td>Newfoundland and Labrador</td>\n",
       "      <td>3</td>\n",
       "    </tr>\n",
       "    <tr>\n",
       "      <th>4</th>\n",
       "      <td>Education [1]</td>\n",
       "      <td>Newfoundland and Labrador</td>\n",
       "      <td>3</td>\n",
       "    </tr>\n",
       "    <tr>\n",
       "      <th>...</th>\n",
       "      <td>...</td>\n",
       "      <td>...</td>\n",
       "      <td>...</td>\n",
       "    </tr>\n",
       "    <tr>\n",
       "      <th>6216</th>\n",
       "      <td>Unclassified</td>\n",
       "      <td>Territories</td>\n",
       "      <td>144</td>\n",
       "    </tr>\n",
       "    <tr>\n",
       "      <th>6217</th>\n",
       "      <td>Unclassified</td>\n",
       "      <td>Territories</td>\n",
       "      <td>810</td>\n",
       "    </tr>\n",
       "    <tr>\n",
       "      <th>6218</th>\n",
       "      <td>Unclassified</td>\n",
       "      <td>Territories</td>\n",
       "      <td>246</td>\n",
       "    </tr>\n",
       "    <tr>\n",
       "      <th>6219</th>\n",
       "      <td>Unclassified</td>\n",
       "      <td>Territories</td>\n",
       "      <td>216</td>\n",
       "    </tr>\n",
       "    <tr>\n",
       "      <th>6220</th>\n",
       "      <td>Unclassified</td>\n",
       "      <td>Territories</td>\n",
       "      <td>72</td>\n",
       "    </tr>\n",
       "  </tbody>\n",
       "</table>\n",
       "<p>6221 rows × 3 columns</p>\n",
       "</div>"
      ],
      "text/plain": [
       "     Field of study                        GEO  VALUE\n",
       "0     Education [1]  Newfoundland and Labrador    129\n",
       "1     Education [1]  Newfoundland and Labrador      3\n",
       "2     Education [1]  Newfoundland and Labrador    243\n",
       "3     Education [1]  Newfoundland and Labrador      3\n",
       "4     Education [1]  Newfoundland and Labrador      3\n",
       "...             ...                        ...    ...\n",
       "6216   Unclassified                Territories    144\n",
       "6217   Unclassified                Territories    810\n",
       "6218   Unclassified                Territories    246\n",
       "6219   Unclassified                Territories    216\n",
       "6220   Unclassified                Territories     72\n",
       "\n",
       "[6221 rows x 3 columns]"
      ]
     },
     "execution_count": 6,
     "metadata": {},
     "output_type": "execute_result"
    }
   ],
   "source": [
    "data1"
   ]
  },
  {
   "cell_type": "code",
   "execution_count": 7,
   "id": "c68bfb60-1b55-4d1f-a0e9-4db7c05d4acb",
   "metadata": {},
   "outputs": [
    {
     "data": {
      "text/html": [
       "<div>\n",
       "<style scoped>\n",
       "    .dataframe tbody tr th:only-of-type {\n",
       "        vertical-align: middle;\n",
       "    }\n",
       "\n",
       "    .dataframe tbody tr th {\n",
       "        vertical-align: top;\n",
       "    }\n",
       "\n",
       "    .dataframe thead th {\n",
       "        text-align: right;\n",
       "    }\n",
       "</style>\n",
       "<table border=\"1\" class=\"dataframe\">\n",
       "  <thead>\n",
       "    <tr style=\"text-align: right;\">\n",
       "      <th></th>\n",
       "      <th>VALUE</th>\n",
       "      <th>Field of study</th>\n",
       "      <th>GEO</th>\n",
       "    </tr>\n",
       "  </thead>\n",
       "  <tbody>\n",
       "    <tr>\n",
       "      <th>0</th>\n",
       "      <td>49371</td>\n",
       "      <td>Social and behavioural sciences and law [4]</td>\n",
       "      <td>Ontario</td>\n",
       "    </tr>\n",
       "    <tr>\n",
       "      <th>1</th>\n",
       "      <td>30864</td>\n",
       "      <td>Humanities [3]</td>\n",
       "      <td>Quebec</td>\n",
       "    </tr>\n",
       "    <tr>\n",
       "      <th>2</th>\n",
       "      <td>29625</td>\n",
       "      <td>Physical and life sciences and technologies [6]</td>\n",
       "      <td>Ontario</td>\n",
       "    </tr>\n",
       "    <tr>\n",
       "      <th>3</th>\n",
       "      <td>28299</td>\n",
       "      <td>Health and related fields [10]</td>\n",
       "      <td>Ontario</td>\n",
       "    </tr>\n",
       "    <tr>\n",
       "      <th>4</th>\n",
       "      <td>27963</td>\n",
       "      <td>Architecture, engineering and related technolo...</td>\n",
       "      <td>Ontario</td>\n",
       "    </tr>\n",
       "    <tr>\n",
       "      <th>5</th>\n",
       "      <td>26796</td>\n",
       "      <td>Business, management and public administration...</td>\n",
       "      <td>Ontario</td>\n",
       "    </tr>\n",
       "    <tr>\n",
       "      <th>6</th>\n",
       "      <td>15525</td>\n",
       "      <td>Unclassified</td>\n",
       "      <td>Ontario</td>\n",
       "    </tr>\n",
       "    <tr>\n",
       "      <th>7</th>\n",
       "      <td>12438</td>\n",
       "      <td>Mathematics, computer and information sciences...</td>\n",
       "      <td>Ontario</td>\n",
       "    </tr>\n",
       "    <tr>\n",
       "      <th>8</th>\n",
       "      <td>10509</td>\n",
       "      <td>Education [1]</td>\n",
       "      <td>Quebec</td>\n",
       "    </tr>\n",
       "    <tr>\n",
       "      <th>9</th>\n",
       "      <td>8568</td>\n",
       "      <td>Visual and performing arts and communications ...</td>\n",
       "      <td>Ontario</td>\n",
       "    </tr>\n",
       "    <tr>\n",
       "      <th>10</th>\n",
       "      <td>6783</td>\n",
       "      <td>Personal, protective and transportation servic...</td>\n",
       "      <td>Ontario</td>\n",
       "    </tr>\n",
       "    <tr>\n",
       "      <th>11</th>\n",
       "      <td>6351</td>\n",
       "      <td>Other  [12]</td>\n",
       "      <td>Quebec</td>\n",
       "    </tr>\n",
       "    <tr>\n",
       "      <th>12</th>\n",
       "      <td>3255</td>\n",
       "      <td>Personal improvement and leisure [0]</td>\n",
       "      <td>British Columbia</td>\n",
       "    </tr>\n",
       "    <tr>\n",
       "      <th>13</th>\n",
       "      <td>3195</td>\n",
       "      <td>Agriculture, natural resources and conservatio...</td>\n",
       "      <td>Ontario</td>\n",
       "    </tr>\n",
       "  </tbody>\n",
       "</table>\n",
       "</div>"
      ],
      "text/plain": [
       "    VALUE                                     Field of study               GEO\n",
       "0   49371        Social and behavioural sciences and law [4]           Ontario\n",
       "1   30864                                     Humanities [3]            Quebec\n",
       "2   29625    Physical and life sciences and technologies [6]           Ontario\n",
       "3   28299                     Health and related fields [10]           Ontario\n",
       "4   27963  Architecture, engineering and related technolo...           Ontario\n",
       "5   26796  Business, management and public administration...           Ontario\n",
       "6   15525                                       Unclassified           Ontario\n",
       "7   12438  Mathematics, computer and information sciences...           Ontario\n",
       "8   10509                                      Education [1]            Quebec\n",
       "9    8568  Visual and performing arts and communications ...           Ontario\n",
       "10   6783  Personal, protective and transportation servic...           Ontario\n",
       "11   6351                                        Other  [12]            Quebec\n",
       "12   3255               Personal improvement and leisure [0]  British Columbia\n",
       "13   3195  Agriculture, natural resources and conservatio...           Ontario"
      ]
     },
     "execution_count": 7,
     "metadata": {},
     "output_type": "execute_result"
    }
   ],
   "source": [
    "data1.sort_values('VALUE', ascending=False).drop_duplicates(subset='Field of study', keep='first').groupby('VALUE').sum().sort_values(by=\"VALUE\", ascending=False).reset_index()"
   ]
  },
  {
   "cell_type": "markdown",
   "id": "8e939ce2-ecba-4a3a-8bf5-5e47efbaa5e3",
   "metadata": {},
   "source": [
    "### Plot for total number of Full time student enrolled"
   ]
  },
  {
   "cell_type": "code",
   "execution_count": 8,
   "id": "4b57da3c-f088-48a2-86e4-6aa146ef2346",
   "metadata": {},
   "outputs": [
    {
     "data": {
      "text/plain": [
       "Text(0.5, 0, 'Number of Full-time Students')"
      ]
     },
     "execution_count": 8,
     "metadata": {},
     "output_type": "execute_result"
    },
    {
     "data": {
      "image/png": "[encoded data removed]",
      "text/plain": [
       "<Figure size 432x288 with 1 Axes>"
      ]
     },
     "metadata": {
      "needs_background": "light"
     },
     "output_type": "display_data"
    }
   ],
   "source": [
    "\n",
    "d=df[df['Registration status']=='Full-time student']\n",
    "d=d[['GEO', 'VALUE']].groupby('GEO').sum().reset_index()\n",
    "x=d['VALUE']\n",
    "y=d['GEO']\n",
    "\n",
    "plt.scatter(x,y,color='black')\n",
    "plt.title(\"Full-time Canadian Students (2018)\")\n",
    "plt.xlabel(\"Number of Full-time Students\")\n"
   ]
  },
  {
   "cell_type": "markdown",
   "id": "3739de72-f8ef-4425-a301-0046afe38684",
   "metadata": {},
   "source": [
    "### Iris Petals scatter graph"
   ]
  },
  {
   "cell_type": "code",
   "execution_count": 194,
   "id": "009c3011-bacd-4049-b3fd-f976f9885371",
   "metadata": {},
   "outputs": [
    {
     "data": {
      "text/plain": [
       "<matplotlib.legend.Legend at 0x2778daf8eb0>"
      ]
     },
     "execution_count": 194,
     "metadata": {},
     "output_type": "execute_result"
    },
    {
     "data": {
      "image/png": "[encoded data removed]",
      "text/plain": [
       "<Figure size 432x288 with 1 Axes>"
      ]
     },
     "metadata": {
      "needs_background": "light"
     },
     "output_type": "display_data"
    }
   ],
   "source": [
    "fig, ax = plt.subplots()\n",
    "\n",
    "ax.scatter(ab[ab.species == \"setosa\"].petal_length, ab[ab.species == \"setosa\"].petal_width, label=\"Setosa\")\n",
    "ax.scatter(ab[ab.species == \"versicolor\"].petal_length, ab[ab.species == \"versicolor\"].petal_width, label=\"Versicolor\")\n",
    "ax.scatter(ab[ab.species == \"virginica\"].petal_length, ab[ab.species == \"virginica\"].petal_width, label=\"Virginica\")\n",
    "\n",
    "plt.title(\"Iris Petals\")\n",
    "plt.ylabel(\"Petal Width\")\n",
    "plt.xlabel(\"Petal Lenght\")\n",
    "plt.legend()"
   ]
  },
  {
   "cell_type": "markdown",
   "id": "63249953-0053-44e5-971f-b7ed9483dd9f",
   "metadata": {},
   "source": [
    "### Graph for area of petals"
   ]
  },
  {
   "cell_type": "code",
   "execution_count": 195,
   "id": "a34eac6d-4072-4306-9b4a-a40fd0ac9dca",
   "metadata": {},
   "outputs": [],
   "source": []
  },
  {
   "cell_type": "code",
   "execution_count": 196,
   "id": "0e0e9a7f-7b23-492c-bb9c-5eccf3395a86",
   "metadata": {},
   "outputs": [
    {
     "data": {
      "text/plain": [
       "<BarContainer object of 150 artists>"
      ]
     },
     "execution_count": 196,
     "metadata": {},
     "output_type": "execute_result"
    },
    {
     "data": {
      "image/png": "[encoded data removed]",
      "text/plain": [
       "<Figure size 432x288 with 1 Axes>"
      ]
     },
     "metadata": {
      "needs_background": "light"
     },
     "output_type": "display_data"
    }
   ],
   "source": []
  }
 ],
 "metadata": {
  "kernelspec": {
   "display_name": "Python 3 (ipykernel)",
   "language": "python",
   "name": "python3"
  },
  "language_info": {
   "codemirror_mode": {
    "name": "ipython",
    "version": 3
   },
   "file_extension": ".py",
   "mimetype": "text/x-python",
   "name": "python",
   "nbconvert_exporter": "python",
   "pygments_lexer": "ipython3",
   "version": "3.9.6"
  }
 },
 "nbformat": 4,
 "nbformat_minor": 5
}
